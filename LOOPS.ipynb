{
  "nbformat": 4,
  "nbformat_minor": 0,
  "metadata": {
    "colab": {
      "name": "LOOPS",
      "provenance": [],
      "collapsed_sections": []
    },
    "kernelspec": {
      "name": "python3",
      "display_name": "Python 3"
    },
    "language_info": {
      "name": "python"
    }
  },
  "cells": [
    {
      "cell_type": "code",
      "metadata": {
        "colab": {
          "base_uri": "https://localhost:8080/"
        },
        "id": "OM5eXFi9usMC",
        "outputId": "ccd29f5d-e0bb-4c05-c1c8-d80f1a7e156f"
      },
      "source": [
        "for temp in range(6):\n",
        "  print(\"Learning Loops!\")"
      ],
      "execution_count": 1,
      "outputs": [
        {
          "output_type": "stream",
          "text": [
            "Learning Loops!\n",
            "Learning Loops!\n",
            "Learning Loops!\n",
            "Learning Loops!\n",
            "Learning Loops!\n",
            "Learning Loops!\n"
          ],
          "name": "stdout"
        }
      ]
    },
    {
      "cell_type": "code",
      "metadata": {
        "colab": {
          "base_uri": "https://localhost:8080/"
        },
        "id": "xJ7QCuWjvBar",
        "outputId": "b0cf93b1-0190-4975-f934-36d8a54c5640"
      },
      "source": [
        "for temp in range(6):\n",
        "  print(\"Loop is on iteration number \" + str(temp + 1))"
      ],
      "execution_count": 2,
      "outputs": [
        {
          "output_type": "stream",
          "text": [
            "Loop is on iteration number 1\n",
            "Loop is on iteration number 2\n",
            "Loop is on iteration number 3\n",
            "Loop is on iteration number 4\n",
            "Loop is on iteration number 5\n",
            "Loop is on iteration number 6\n"
          ],
          "name": "stdout"
        }
      ]
    },
    {
      "cell_type": "code",
      "metadata": {
        "colab": {
          "base_uri": "https://localhost:8080/"
        },
        "id": "Jn47PLKsvgGQ",
        "outputId": "ad1e9e59-0931-4d58-d1a7-eff82353295b"
      },
      "source": [
        "promise = \"I will finish the python loops module!\"\n",
        "for promise in range(5):\n",
        "  print(\"I will finish the python loops module!\")"
      ],
      "execution_count": 3,
      "outputs": [
        {
          "output_type": "stream",
          "text": [
            "I will finish the python loops module!\n",
            "I will finish the python loops module!\n",
            "I will finish the python loops module!\n",
            "I will finish the python loops module!\n",
            "I will finish the python loops module!\n"
          ],
          "name": "stdout"
        }
      ]
    },
    {
      "cell_type": "code",
      "metadata": {
        "colab": {
          "base_uri": "https://localhost:8080/"
        },
        "id": "UrmJSRlOvn0k",
        "outputId": "a74ac161-24a9-43fd-e64d-7aba550c0d8f"
      },
      "source": [
        "count = 0\n",
        "while count <= 3:\n",
        "  # Loop Body\n",
        "  print(count)\n",
        "  count += 1"
      ],
      "execution_count": 4,
      "outputs": [
        {
          "output_type": "stream",
          "text": [
            "0\n",
            "1\n",
            "2\n",
            "3\n"
          ],
          "name": "stdout"
        }
      ]
    },
    {
      "cell_type": "code",
      "metadata": {
        "colab": {
          "base_uri": "https://localhost:8080/"
        },
        "id": "EZi_vTLn7VD7",
        "outputId": "f64b78c7-f5ca-48e2-87bc-b5335b5cdc59"
      },
      "source": [
        "print('abcdefcdghcd'.split('cd'))"
      ],
      "execution_count": 12,
      "outputs": [
        {
          "output_type": "stream",
          "text": [
            "['ab', 'ef', 'gh', '']\n"
          ],
          "name": "stdout"
        }
      ]
    }
  ]
}